{
 "cells": [
  {
   "cell_type": "markdown",
   "metadata": {
    "colab_type": "text",
    "id": "I8CoX4R7VoCd"
   },
   "source": [
    "# 反爬：代理伺服器/IP\n",
    "\n",
    "* 了解「IP 黑/白名單」的反爬蟲機制\n",
    "* 「IP 黑/白名單」反爬蟲的因應策略"
   ]
  },
  {
   "cell_type": "markdown",
   "metadata": {
    "colab_type": "text",
    "id": "n-3DZ_r5VoCe"
   },
   "source": [
    "## 作業目標\n",
    "\n",
    "* 目前程式中的 proxy_ips 是手動輸入的，請根據 https://free-proxy-list.net/ 寫一個可自動化抓取可用 Proxy 的 proxy_ips。\n",
    "\n",
    "\n"
   ]
  },
  {
   "cell_type": "code",
   "execution_count": 1,
   "metadata": {
    "colab": {},
    "colab_type": "code",
    "id": "iny-9heBVoCf"
   },
   "outputs": [],
   "source": [
    "from bs4 import BeautifulSoup\n",
    "import requests\n",
    "import random\n",
    "import re\n",
    "\n",
    "proxy_ips = []\n",
    "\n",
    "rs = requests.get(\"https://free-proxy-list.net/\")\n",
    "\n",
    "soup = BeautifulSoup(rs.text, \"html5lib\")\n",
    "\n",
    "for td_node in soup.find_all(\"td\"):\n",
    "    if re.compile(\"(\\d{1,3}).(\\d{1,3}).(\\d{1,3}).(\\d{1,3})\").match(td_node.text):\n",
    "        proxy_ips.append(td_node.text)"
   ]
  },
  {
   "cell_type": "code",
   "execution_count": 2,
   "metadata": {
    "colab": {},
    "colab_type": "code",
    "id": "75dIsHjiVoCi"
   },
   "outputs": [
    {
     "name": "stdout",
     "output_type": "stream",
     "text": [
      "Use 138.197.204.55\n",
      "Your IP address: 111.242.112.161\n",
      "Use 139.59.61.229\n",
      "Your IP address: 111.242.112.161\n",
      "Use 157.230.245.166\n",
      "Your IP address: 111.242.112.161\n"
     ]
    }
   ],
   "source": [
    "for i in range(3):\n",
    "    ip = random.choice(proxy_ips)\n",
    "    \n",
    "    print('Use', ip)\n",
    "    \n",
    "    try:\n",
    "        resp = requests.get('http://ip.filefab.com/index.php', proxies={'http://':ip, 'https://':ip}, timeout=10)\n",
    "        soup = BeautifulSoup(resp.text, 'html5lib')\n",
    "        \n",
    "        print(soup.find('h1', id='ipd').text.strip())\n",
    "        \n",
    "    except:\n",
    "        print('Fail')"
   ]
  },
  {
   "cell_type": "code",
   "execution_count": null,
   "metadata": {},
   "outputs": [],
   "source": []
  }
 ],
 "metadata": {
  "colab": {
   "name": "homework.ipynb",
   "provenance": []
  },
  "kernelspec": {
   "display_name": "Python 3",
   "language": "python",
   "name": "python3"
  },
  "language_info": {
   "codemirror_mode": {
    "name": "ipython",
    "version": 3
   },
   "file_extension": ".py",
   "mimetype": "text/x-python",
   "name": "python",
   "nbconvert_exporter": "python",
   "pygments_lexer": "ipython3",
   "version": "3.7.6"
  }
 },
 "nbformat": 4,
 "nbformat_minor": 1
}
