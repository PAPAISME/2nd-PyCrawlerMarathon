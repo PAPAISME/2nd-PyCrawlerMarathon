{
 "cells": [
  {
   "cell_type": "markdown",
   "metadata": {},
   "source": [
    "# HTTP 靜態網頁架構說明\n",
    "\n",
    "* 認識靜態網頁的溝通架構與運作原理\n",
    "* HTML、CSS、JavaScript 在網頁中扮演的角色\n",
    "* 網頁中定位資料的方法"
   ]
  },
  {
   "cell_type": "markdown",
   "metadata": {},
   "source": [
    "## 作業目標\n",
    "\n",
    "1. （簡答題）請問目前提到的這種基於 HTTP 一來一回的網頁傳輸方式，有哪些缺點及問題？\n",
    "2. （簡答題）網頁中使用的 JavaScipt 程式語言，跟我們一般使用的 Python 在執行上有什麼不同。\n"
   ]
  },
  {
   "cell_type": "markdown",
   "metadata": {},
   "source": [
    "### 1.（簡答題）請問目前提到的這種基於 HTTP 一來一回的網頁傳輸方式，有哪些缺點及問題？"
   ]
  },
  {
   "cell_type": "markdown",
   "metadata": {},
   "source": [
    "### 安全問題 :\n",
    "    1. 傳輸通訊上使用明文(未加密), 內容可能會被其他有心人士竊聽\n",
    "    2. 不會去驗證 Client 端的使用者身份, 可能會被偽裝\n",
    "    3. 傳輸中內容有可能被竄改\n",
    "\n",
    "------\n",
    "### 傳輸速度問題\n",
    "    1. 傳輸速度不算快, 本身所帶的資料量偏大(Http協議中包含輔助應用資訊)\n",
    "    2. Real TIme 溝通互動時, Server Performance 很差\n"
   ]
  },
  {
   "cell_type": "markdown",
   "metadata": {},
   "source": [
    "### 2. （簡答題）網頁中使用的 JavaScipt 程式語言，跟我們一般使用的 Python 在執行上有什麼不同。"
   ]
  },
  {
   "cell_type": "markdown",
   "metadata": {},
   "source": [
    "### Javascript 在網頁中主要是透過瀏覽器分析解譯來執行\n",
    "    JaveScript 基本上市會按照 HTML 文檔由上往下執行, 但有可能會因為 Event 的狀況導致執行順序改變\n",
    "### Python 會由 Interpreter 轉譯成 Byte Code, 而 Byte Code 則會透過 Virtual Machine 在轉譯成 Executable Code, 接著就開始按照順序執行"
   ]
  },
  {
   "cell_type": "code",
   "execution_count": null,
   "metadata": {},
   "outputs": [],
   "source": []
  }
 ],
 "metadata": {
  "kernelspec": {
   "display_name": "Python 3",
   "language": "python",
   "name": "python3"
  },
  "language_info": {
   "codemirror_mode": {
    "name": "ipython",
    "version": 3
   },
   "file_extension": ".py",
   "mimetype": "text/x-python",
   "name": "python",
   "nbconvert_exporter": "python",
   "pygments_lexer": "ipython3",
   "version": "3.7.4"
  }
 },
 "nbformat": 4,
 "nbformat_minor": 2
}
