{
 "cells": [
  {
   "cell_type": "markdown",
   "metadata": {},
   "source": [
    "# 其他工具：Grab、PyQuery\n",
    "\n",
    "\n",
    "* 利用 Grab 套件的存取 HTML 資源\n",
    "* 利用 PyQuery 套件的解析 HTML 格式\n"
   ]
  },
  {
   "cell_type": "markdown",
   "metadata": {},
   "source": [
    "## 作業目標\n",
    "\n",
    "將之前用 requests + beatifulsoup 實作的方式，改寫成 grab + pyquery，並且比較有哪些地方不同。\n",
    "\n",
    "\n",
    "\n"
   ]
  },
  {
   "cell_type": "markdown",
   "metadata": {},
   "source": [
    "## requests + BeautifulSoup\n"
   ]
  },
  {
   "cell_type": "code",
   "execution_count": 1,
   "metadata": {},
   "outputs": [],
   "source": [
    "import requests\n",
    "from bs4 import BeautifulSoup\n",
    "\n",
    "url = \"https://www.dcard.tw/f\"\n",
    "\n",
    "r = requests.get(url)\n",
    "\n",
    "r.encoding = \"utf-8\"\n",
    "\n",
    "response = r.text\n",
    "\n",
    "soup = BeautifulSoup(r.text, \"html5lib\")\n",
    "\n",
    "#print(soup.prettify())"
   ]
  },
  {
   "cell_type": "code",
   "execution_count": 2,
   "metadata": {},
   "outputs": [
    {
     "name": "stdout",
     "output_type": "stream",
     "text": [
      "<class 'bs4.BeautifulSoup'>\n",
      "<class 'str'>\n"
     ]
    }
   ],
   "source": [
    "print(type(soup))\n",
    "\n",
    "print(type(soup.text))"
   ]
  },
  {
   "cell_type": "markdown",
   "metadata": {},
   "source": [
    "## Grab + PyQuery"
   ]
  },
  {
   "cell_type": "code",
   "execution_count": 3,
   "metadata": {
    "scrolled": false
   },
   "outputs": [],
   "source": [
    "from grab import Grab\n",
    "\n",
    "g = Grab()\n",
    "\n",
    "resp = g.go(url)"
   ]
  },
  {
   "cell_type": "code",
   "execution_count": 4,
   "metadata": {},
   "outputs": [
    {
     "name": "stdout",
     "output_type": "stream",
     "text": [
      "<class 'grab.document.Document'>\n",
      "<class 'bytes'>\n",
      "<class 'str'>\n",
      "\n",
      "grab 套件用上面的 type 函式發現是一個 bytes 的形態, 裡面所有的字元都是未轉 unicode 之前的表示法, 要用 unicode_body function 作轉換以後才會轉乘我們想看的樣子, 並且形態會轉變成 string\n"
     ]
    }
   ],
   "source": [
    "print(type(resp))\n",
    "\n",
    "print(type(resp.body))\n",
    "\n",
    "print(type(resp.unicode_body()))\n",
    "\n",
    "print()\n",
    "\n",
    "print(\"grab 套件用上面的 type 函式發現是一個 bytes 的形態, 裡面所有的字元都是未轉 unicode 之前的表示法, 要用 unicode_body function 作轉換以後才會轉乘我們想看的樣子, 並且形態會轉變成 string\")"
   ]
  },
  {
   "cell_type": "code",
   "execution_count": 5,
   "metadata": {},
   "outputs": [
    {
     "name": "stdout",
     "output_type": "stream",
     "text": [
      "<class 'pyquery.pyquery.PyQuery'> Dcard\n"
     ]
    }
   ],
   "source": [
    "from pyquery import PyQuery as pq\n",
    "\n",
    "doc = pq(resp.body)\n",
    "\n",
    "title = doc(\"title\")\n",
    "\n",
    "print(type(title), title.text())"
   ]
  },
  {
   "cell_type": "code",
   "execution_count": null,
   "metadata": {},
   "outputs": [],
   "source": []
  }
 ],
 "metadata": {
  "kernelspec": {
   "display_name": "Python 3",
   "language": "python",
   "name": "python3"
  },
  "language_info": {
   "codemirror_mode": {
    "name": "ipython",
    "version": 3
   },
   "file_extension": ".py",
   "mimetype": "text/x-python",
   "name": "python",
   "nbconvert_exporter": "python",
   "pygments_lexer": "ipython3",
   "version": "3.7.6"
  }
 },
 "nbformat": 4,
 "nbformat_minor": 2
}
