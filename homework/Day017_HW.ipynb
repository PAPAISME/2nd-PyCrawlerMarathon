{
 "cells": [
  {
   "cell_type": "markdown",
   "metadata": {},
   "source": [
    "# HTTP 動態網頁架構說明\n",
    "\n",
    "\n",
    "* 了解動態網頁的資料爬蟲策略\n",
    "* 知道非同步網頁載入機制（Ajax）\n",
    "* 學習兩種對應動態網頁爬蟲的的策略\n"
   ]
  },
  {
   "cell_type": "markdown",
   "metadata": {},
   "source": [
    "## 作業目標\n",
    "\n",
    "回答以下問題：\n",
    "\n",
    "1. 動態網頁跟靜態網頁的差別是什麼？原本靜態網頁的做法會產生什麼問題或是缺點？\n",
    "2. 還記得我們在 ETTODAY 靜態爬蟲實作練習中，有請大家完成一個題目「取出今天所有的發文」，但仔細看其實並沒有真的把當天所有的新聞都抓回來， 試著回答看看原因是什麼？及該如何檢查？\n"
   ]
  },
  {
   "cell_type": "markdown",
   "metadata": {},
   "source": [
    "### 1. 動態網頁跟靜態網頁的差別是什麼？原本靜態網頁的做法會產生什麼問題或是缺點？"
   ]
  },
  {
   "cell_type": "markdown",
   "metadata": {},
   "source": [
    "### 靜態網頁和動態網頁的差別主要是在 :\n",
    "1. 靜態網頁基本上是不包含網頁程式(如ASP、PHP、ASP.Net…等)及資料庫的純文字及圖片網頁. 網頁都是一開始就寫好.\n",
    "2. 動態網頁則是有包含網頁程式及資料庫的網頁。動態網頁可以透過程式語言結合資料庫的方式，而設計出可與使用者進行互動的功能，例如：購物車、會員機制、留言板、討論區、投票區、訊息發佈、商品發佈等等功能\n",
    "\n",
    "### 靜態網頁的缺點\n",
    "* 內容是固定的，交互性差，內容更新維護複雜。\n",
    "* 沒有自動化的工具，維護大量的靜態頁面文件是不現實的。\n",
    "* 無法充分支持用戶/客戶的需求（外觀選擇，瀏覽器的支持，Cookie）。\n"
   ]
  },
  {
   "cell_type": "markdown",
   "metadata": {},
   "source": [
    "### 2. 還記得我們在 ETTODAY 靜態爬蟲實作練習中，有請大家完成一個題目「取出今天所有的發文」，但仔細看其實並沒有真的把當天所有的新聞都抓回來， 試著回答看看原因是什麼？及該如何檢查？"
   ]
  },
  {
   "cell_type": "markdown",
   "metadata": {},
   "source": [
    "* 原因應該是一開始瀏覽器第一次發出 Request 給 Server 端時, 只有載回固定數量的新聞文章數, 當使用者開始逐步往下拉往前的時間, 當快到一開始載入回的文章數上限時, 會 Trigger 檢查機制的 Javascript Code 再度發出 Request 去要回更之前的文章, 所以使用者才會感覺其實往下滑的時候會有一小段的小小延遲\n",
    "\n",
    "* 檢查目前想到大概只能用時間比對去看是否是真的離凌晨 12 點的太遠, 若太遠則在利用 Javascript 的 Code 在發 Request 要回更多資料"
   ]
  },
  {
   "cell_type": "code",
   "execution_count": null,
   "metadata": {},
   "outputs": [],
   "source": []
  }
 ],
 "metadata": {
  "kernelspec": {
   "display_name": "Python 3",
   "language": "python",
   "name": "python3"
  },
  "language_info": {
   "codemirror_mode": {
    "name": "ipython",
    "version": 3
   },
   "file_extension": ".py",
   "mimetype": "text/x-python",
   "name": "python",
   "nbconvert_exporter": "python",
   "pygments_lexer": "ipython3",
   "version": "3.7.6"
  }
 },
 "nbformat": 4,
 "nbformat_minor": 2
}
