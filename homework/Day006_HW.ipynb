{
 "cells": [
  {
   "cell_type": "markdown",
   "metadata": {},
   "source": [
    "# API 資料串接 - 以 知乎 API 實作範例\n",
    "\n",
    "\n",
    "\n",
    "* 了解知乎 API 使用方式與回傳內容\n",
    "* 撰寫程式存取 API 且添加標頭\n",
    "\n",
    "\n"
   ]
  },
  {
   "cell_type": "markdown",
   "metadata": {},
   "source": [
    "## 作業目標\n",
    "\n",
    "* 根據範例提供的 API ，完成以下問題：\n",
    "\n",
    "    1. 取出知乎問題發問時間\n",
    "    2. 取出第一筆與最後一筆回答的時間\n"
   ]
  },
  {
   "cell_type": "markdown",
   "metadata": {},
   "source": [
    "### 1. 取出知乎問題發問時間"
   ]
  },
  {
   "cell_type": "code",
   "execution_count": 1,
   "metadata": {},
   "outputs": [
    {
     "name": "stdout",
     "output_type": "stream",
     "text": [
      "問題標題 : 你们都是怎么学 Python 的？\n",
      "問題發問時間 : 2017/02/06 14:10:29 \n",
      "\n"
     ]
    }
   ],
   "source": [
    "# 1. 取出知乎問題發問時間\n",
    "\n",
    "import requests, json\n",
    "from datetime import datetime\n",
    "\n",
    "headers_setting = {\"user-agent\" : \"my-app/0.0.1\"}\n",
    "\n",
    "gr = requests.get(\"https://www.zhihu.com/api/v4/questions/55493026/answers\", headers = headers_setting)\n",
    "\n",
    "data_all = json.loads(gr.text)\n",
    "\n",
    "question_datas = [value for key, value in data_all.items() if key == \"data\"]\n",
    "\n",
    "for key, value in question_datas[0][0][\"question\"].items():\n",
    "    if (key == \"title\"):\n",
    "        print(\"問題標題 :\", value)\n",
    "    elif (key == \"created\"):\n",
    "        date_array = datetime.utcfromtimestamp(value)\n",
    "        normal_style_time = date_array.strftime(\"%Y/%m/%d %H:%M:%S\")\n",
    "        print(\"問題發問時間 :\", normal_style_time, \"\\n\")"
   ]
  },
  {
   "cell_type": "markdown",
   "metadata": {},
   "source": [
    "### 2. 取出第一筆與最後一筆回答的時間"
   ]
  },
  {
   "cell_type": "code",
   "execution_count": 2,
   "metadata": {},
   "outputs": [
    {
     "name": "stdout",
     "output_type": "stream",
     "text": [
      "第一筆回答的時間 :\n",
      "回答時間 : 2017/05/02 06:48:23 \n",
      "\n",
      "最後一筆回答的時間 :\n",
      "回答時間 : 2019/05/14 09:00:12 \n",
      "\n"
     ]
    }
   ],
   "source": [
    "# 2. 取出第一筆與最後一筆回答的時間\n",
    "\n",
    "print(\"第一筆回答的時間 :\")\n",
    "for key, value in question_datas[0][-1].items():\n",
    "    if (key == \"created_time\"):\n",
    "        date_array = datetime.utcfromtimestamp(value)\n",
    "        normal_style_time = date_array.strftime(\"%Y/%m/%d %H:%M:%S\")\n",
    "        print(\"回答時間 :\", normal_style_time, \"\\n\")\n",
    "        \n",
    "print(\"最後一筆回答的時間 :\")\n",
    "for key, value in question_datas[0][0].items():\n",
    "    if (key == \"created_time\"):\n",
    "        date_array = datetime.utcfromtimestamp(value)\n",
    "        normal_style_time = date_array.strftime(\"%Y/%m/%d %H:%M:%S\")\n",
    "        print(\"回答時間 :\", normal_style_time, \"\\n\")"
   ]
  },
  {
   "cell_type": "code",
   "execution_count": null,
   "metadata": {},
   "outputs": [],
   "source": []
  }
 ],
 "metadata": {
  "kernelspec": {
   "display_name": "Python 3",
   "language": "python",
   "name": "python3"
  },
  "language_info": {
   "codemirror_mode": {
    "name": "ipython",
    "version": 3
   },
   "file_extension": ".py",
   "mimetype": "text/x-python",
   "name": "python",
   "nbconvert_exporter": "python",
   "pygments_lexer": "ipython3",
   "version": "3.7.4"
  }
 },
 "nbformat": 4,
 "nbformat_minor": 2
}
