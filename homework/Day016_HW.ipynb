{
 "cells": [
  {
   "cell_type": "markdown",
   "metadata": {},
   "source": [
    "# Wikipedia爬蟲練習\n",
    "## 範例：練習是從Wikipedia中爬取文章。先定義一個搜尋的關鍵字，擷取該關鍵字詞的文章。"
   ]
  },
  {
   "cell_type": "code",
   "execution_count": 1,
   "metadata": {},
   "outputs": [],
   "source": [
    "import requests\n",
    "import re\n",
    "from bs4 import BeautifulSoup"
   ]
  },
  {
   "cell_type": "markdown",
   "metadata": {},
   "source": [
    "### 先定義一個我們想搜尋的字詞，並將它轉換成UTF-8編碼後的URL"
   ]
  },
  {
   "cell_type": "code",
   "execution_count": 2,
   "metadata": {},
   "outputs": [
    {
     "name": "stdout",
     "output_type": "stream",
     "text": [
      "Docker: Docker\n",
      "/wiki/Docker\n"
     ]
    }
   ],
   "source": [
    "input_keyword = \"Docker\"  # 這裡可以自己定義有興趣的關鍵字\n",
    "\n",
    "utf8_url = repr(input_keyword.encode('UTF-8'))  # 編碼成UTF-8並轉成大寫字元\n",
    "utf8_url = utf8_url.replace(\"\\\\X\", \"%\")                 # 用 '%' 取代 '\\X' \n",
    "print(\"%s: %s\" % (input_keyword, utf8_url[2:-1:1]))     # 擷取中間的編碼結果\n",
    "\n",
    "# 組成Wiki關鍵字搜尋的網址格式\n",
    "root_keyword_link = '/wiki/' + utf8_url[2:-1:1]\n",
    "print(root_keyword_link)"
   ]
  },
  {
   "cell_type": "markdown",
   "metadata": {},
   "source": [
    "### 範例1：送出關鍵字請求後，爬取該關鍵字的文章內容"
   ]
  },
  {
   "cell_type": "code",
   "execution_count": 3,
   "metadata": {},
   "outputs": [
    {
     "name": "stdout",
     "output_type": "stream",
     "text": [
      "Docker是一個開放原始碼軟體專案，讓應用程式部署在軟體貨櫃下的工作可以自動化進行，藉此在Linux作業系統上，提供一個額外的軟體抽象層，以及作業系統層虛擬化的自動管理機制[1]。\n",
      "\n",
      "Docker利用Linux核心中的資源分離機制，例如cgroups，以及Linux核心命名空間（英語：Linux namespaces）（namespaces），來建立獨立的容器（containers）。這可以在單一Linux實體下運作，避免啟動一個虛擬機器造成的額外負擔[2]。Linux核心對命名空間的支援完全隔離了工作環境中應用程式的視野，包括行程樹、網路、用戶ID與掛載檔案系統，而核心的cgroup提供資源隔離，包括CPU、記憶體、block I/O與網路。從0.9版本起，Dockers在使用抽象虛擬是經由libvirt的LXC與systemd - nspawn提供介面的基礎上，開始包括libcontainer函式庫做為以自己的方式開始直接使用由Linux核心提供的虛擬化的設施， \n",
      "\n",
      "依據行業分析公司「451研究」：「Dockers是有能力打包應用程式及其虛擬容器，可以在任何Linux伺服器上執行的依賴性工具，這有助於實現靈活性和可攜式性，應用程式在任何地方都可以執行，無論是公用雲、私有雲、單機等。」 [3]。\n",
      "\n",
      "專業名詞Docker有兩個意思：[4]\n",
      "\n",
      "Docker引擎(Docker Engine)是一個伺服器端-客戶端結構的應用，主要有這些部分：Docker守護行程、Docker Engine AP、Docker客戶端。[5]\n",
      "\n",
      "Docker註冊中心(Docker registry)是用於儲存Docker的鏡像。Docker Hub 是一個公共的註冊中心，任何人都可以使用，預設組態下，Docker將會在這裡尋找鏡像。[10]\n",
      "\n",
      "另外，用戶可以自行構建私有註冊中心。Docker Datacenter (DDC)的用戶，可以直接使用 Docker Trusted Registry (DTR)。[10]\n",
      "\n",
      "Docker的物件是指Images、Containers、Networks、Volumes、Plugins等等。[11]\n",
      "\n",
      "Compose可譯為組合物。[13]Compose 是用於定義和執行多個容器 Docker 應用程式的工具。通過 Compose，你可以使用 YML 檔案來組態應用程式需要的所有服務。然後，使用一個命令，就可以從 YML 檔案組態中建立並啟動所有服務。[14][15]Compose對應的命令為docker-compose。[16]\n",
      "\n",
      "當說到 Docker Swarm 時，一般是指單獨專案 Docker Swarm。而在Docker 1.12時，將swarm mode整合到Docker 引擎中，可用Docker引擎API 和 CLI 命令直接使用。官方推薦用戶使用整合的 swarm mode [17]。\n",
      "\n",
      "Swarm Mode 內建 kv 儲存功能，提供了眾多的新特性，比如：具有容錯能力的去中心化設計、內建服務發現、負載均衡、路由網格、動態伸縮、滾動更新、安全傳輸等。使得 Docker 原生的 Swarm 叢集具備與 Mesos、Kubernetes 競爭的實力。[18]\n",
      "\n",
      "cluster(中文：叢集)，Docker將叢集定義為：一群共同作業並提供高可用性的機器[19] 。swarm(中文：群[20])，是指一個叢集的Docker引擎以swarm mode形式執行[21]。swarm mode是指Docker引擎內嵌的叢集管理和編排功能。當你初始化了一個swarm(cluster)或者將節點加入一個swarm時，其Docker引擎就會以swarm mode的形式執行。[22]\n",
      "\n",
      "swarm中的Docker機器中分為 managers（管理者） 和 workers（員工），管理者用於處理叢集的關係和委派，員工則用於執行 swarm服務。[23] 當你建立swarm服務時，你可以為其增加各種額外的狀態（如：數量、網路、埠、儲存資源等等）。Docker會去維持用戶想要的狀態。如：一個工作節點如果掛了，那麼Docker會去把這個節點的任務給另外一個節點。此處的任務（task）是指：被swarm管理者管理的一個執行中的容器。[24]\n",
      "\n",
      "swarm服務比單獨容器好在，修改swarm服務的組態之後不用重新啟動。同時，Docker以swarm mode形式執行時，也可以選擇直接啟動單獨的容器。另外，swarm mode下，你也可以通過 docker stack deploy 使用 Compose file 部署應用棧。[25][24] swarm服務分為兩種，一種是replicated services ，可以指定節點任務的總數量；global services，則是每個節點都會執行一個指定任務。[26] swarm管理員使用 ingress  負載均衡使服務可被外部接觸。 swarm管理員會自動地給服務分配PublishedPort（或者手動組態）。外部組件，如雲負載均衡器能通過叢集中任何節點上的PublishedPort去接入服務（不管該服務是否啟動）。另外 swarm mode有內部DNS組件，它會為每個服務分配一個DNS條目。swarm管理員使用 internal load balancing 去分發請求時，就是依靠這個DNS組件。[27]\n",
      "\n",
      "swarm mode的功能是由swarmkit(一個獨立專案)提供的，它實現了Docker的編排層。swarm可以直接被Docker使用。[23]\n",
      "\n",
      "Docker有兩種檔案格式，Dockerfile和Compose file。Dockerfile定義了單個容器的內容和啟動時候的行為。Compose file定義了一個多容器應用。[28]\n",
      "\n",
      "\n",
      "Docker 可以依照 Dockerfile 的內容，自動化地構建鏡像。 Dockerfile 是包含著用戶想要如何構建鏡像的所有命令的文字。[29]\n",
      "關鍵詞：\n",
      "\n",
      "Compose file是一個YAML檔案，定義了服務（service）、網路、卷（volume）。[34]\n",
      "\n",
      "服務定義了容器組態，該服務下的所有被啟動的容器都會使用該組態。服務做的事清就像傳輸了命令行參數給docker container create 。類似地，網路就像docker network create ，卷就像docker volume create。 雖然服務就像docker container create ，但由於已經在Dockerfile中指定了各種選項，所以沒有必要再Compose file再次指定。[35]\n",
      "\n",
      "Compose file檔案能使用外部的環境變數[36]，同時也能通過ARGS傳變數進Dockerfile。\n",
      "\n",
      "參考文件：Docker文件-網路概要\n",
      "\n",
      "bridge 橋接網路為預設網路設定。橋接經常用於：在單獨容器上執行你的應用，此時就需要橋接幫助通信。\n",
      "\n",
      "在Docker，橋接網路使用的軟體形式的橋接 ，該形式允許使用相同的橋接的容器連接進入該網路，而其他非該網路的容器無法接入。Docker橋接驅動會自動地在Docker主機上安裝規則，這些規則會讓不同橋接網路之間不能直接通信。\n",
      "\n",
      "橋接網路適用於容器執行在相同地Docker守護行程的主機上。不同Docker守護行程主機上的容器，它們之間的通信需要依靠作業系統層次的路由，或者你應該使用 overlay網路進行代替。\n",
      "\n",
      "主機模式\n",
      "\n",
      "host 用於單獨容器，該網路下容器只能和Docker主機進行直接連接。host 只適用於 Docker 17.06或以上版本的swarm服務。\n",
      "\n",
      "host網路和VirtualBox的 僅主機網路（Host-only Networking） 類似。[37]\n",
      "\n",
      "overlay 網路連能接數個Docker守護行程，並能讓swarm服務互相通信。你也可以通過 overlay網路 進行swarm服務和單獨容器，以及不同Docker守護行程的單獨容器間通信。該策略不需要 容器們 具有作業系統級別的路由，因為Docker負責路由。\n",
      "\n",
      "可參考：覆蓋網路\n",
      "\n",
      "Macvlan 網路允許你賦予容器 MAC位址 ，在該網路里，容器會被認為是物理裝置。Docker守護行程會路由\n",
      "\n",
      "該策略下，容器不使用任何網路。none 常常用於連接自訂網路驅動的情況下。\n",
      "\n",
      "其他第三方外掛程式。\n",
      "\n",
      "Docker命令在過去的發展中誕生了40種以上的命令，過多的命令導致混論以及難以使用tab自動補充，因此在docker 1.13版本（2017.1.19）中，命令行被重構，根據邏輯物件進行劃分。官方建議用戶使用新的語法進行操作。[38]\n",
      "\n",
      "參考Swarm Mode章節。\n",
      "\n",
      "Docker Machine 是一個工具，它允許你在虛擬宿主機上安裝 Docker引擎，並使用 docker-machine 命令管理這些宿主機。你可以使用 Machine 在你原生的 Mac 或 Windows box、公司網路、資料中心、或像 AWS 或 Digital Ocean 這樣的雲提供商上建立 Docker 宿主機。[39][40]\n",
      "\n",
      "Docker Machine 最後更新時間是在0.16.0 (2018-11-08)版本[41]。官方建議在1.12以及之後版本使用Docker Desktop for Mac和Docker Desktop for Windows進行代替。[42]\n",
      "\n",
      "Docker Toolbox是用於幫 Windows系統和Mac系統 安裝Docker環境。新版本建議使用Docker Desktop for Mac和Docker Desktop for Windows進行安裝。[43]最後更新版本是 19.03.1(2019-08-01)。[44]\n",
      "\n"
     ]
    }
   ],
   "source": [
    "# 模擬封包的標頭\n",
    "headers = {\n",
    "    \"authority\" : \"zh.wikipedia.org\",\n",
    "    \"method\" : \"GET\",\n",
    "    \"path\" : \"/wiki/\" + root_keyword_link,\n",
    "    \"scheme\" : \"https\",\n",
    "    \"accept\" : \"text/html,application/xhtml+xml,application/xml;q=0.9,image/webp,image/apng,*/*;q=0.8,application/signed-exchange;v=b3\",\n",
    "    \"accept-encoding\" : \"gzip, deflate, br\",\n",
    "    \"accept-language\" : \"zh-TW,zh;q=0.9,en-US;q=0.8,en;q=0.7,zh-CN;q=0.6\",\n",
    "    \"cookie\" : \"GeoIP=TW:TPE:Taipei:25.05:121.53:v4; TBLkisOn=0; mwPhp7Seed=8b8; WMF-Last-Access-Global=04-Jun-2019; WMF-Last-Access=04-Jun-2019\",\n",
    "    \"dnt\" : \"1\",\n",
    "    \"referer\" : \"https://zh.wikipedia.org/wiki/Wikipedia:%E9%A6%96%E9%A1%B5\",\n",
    "    \"upgrade-insecure-requests\" : \"1\",\n",
    "    \"user-agent\" : \"Mozilla/5.0 (Windows NT 10.0; Win64; x64) AppleWebKit/537.36 (KHTML, like Gecko) Chrome/74.0.3729.169 Safari/537.36\"\n",
    "}    \n",
    "\n",
    "url = \"https://zh.wikipedia.org\" + root_keyword_link  # 組合關鍵字查詢URL\n",
    "resp = requests.get(url, headers=headers)\n",
    "resp.encoding = \"utf-8\"\n",
    "\n",
    "html = BeautifulSoup(resp.text, \"lxml\")\n",
    "content = html.find(name = \"div\", attrs = {\"id\" : \"mw-content-text\"}).find_all(name = \"p\")\n",
    "\n",
    "#\n",
    "# 解析回傳資料，並萃取文章內容\n",
    "#\n",
    "for paragraph in content:\n",
    "    print(paragraph.get_text())"
   ]
  },
  {
   "cell_type": "markdown",
   "metadata": {},
   "source": [
    "### 範例2：從爬取的文章內容中，擷取出有外部連結的關鍵字。這些關鍵字在文章中是以藍色字體顯示，會連到外部的網頁，並解釋其內容。"
   ]
  },
  {
   "cell_type": "code",
   "execution_count": 4,
   "metadata": {},
   "outputs": [
    {
     "name": "stdout",
     "output_type": "stream",
     "text": [
      "外部連結: [開放原始碼] /wiki/%E9%96%8B%E6%94%BE%E5%8E%9F%E5%A7%8B%E7%A2%BC\n",
      "外部連結: [軟體貨櫃] /wiki/%E4%BD%9C%E6%A5%AD%E7%B3%BB%E7%B5%B1%E5%B1%A4%E8%99%9B%E6%93%AC%E5%8C%96\n",
      "外部連結: [Linux] /wiki/Linux\n",
      "外部連結: [抽象層] /wiki/%E6%8A%BD%E8%B1%A1%E5%B1%A4\n",
      "外部連結: [作業系統層虛擬化] /wiki/%E4%BD%9C%E6%A5%AD%E7%B3%BB%E7%B5%B1%E5%B1%A4%E8%99%9B%E6%93%AC%E5%8C%96\n",
      "外部連結: [Linux核心] /wiki/Linux%E6%A0%B8%E5%BF%83\n",
      "外部連結: [cgroups] /wiki/Cgroups\n",
      "外部連結: [容器] /wiki/%E4%BD%9C%E6%A5%AD%E7%B3%BB%E7%B5%B1%E5%B1%A4%E8%99%9B%E6%93%AC%E5%8C%96\n",
      "外部連結: [虛擬機器] /wiki/%E8%99%9B%E6%93%AC%E6%A9%9F%E5%99%A8\n",
      "外部連結: [網路] /wiki/%E8%AE%A1%E7%AE%97%E6%9C%BA%E7%BD%91%E7%BB%9C\n",
      "外部連結: [CPU] /wiki/CPU\n",
      "外部連結: [記憶體] /wiki/%E9%9B%BB%E8%85%A6%E8%A8%98%E6%86%B6%E9%AB%94\n",
      "外部連結: [libvirt] /wiki/Libvirt\n",
      "外部連結: [LXC] /wiki/LXC\n",
      "外部連結: [公用雲] /wiki/%E5%85%AC%E7%94%A8%E9%9B%B2\n",
      "外部連結: [私有雲] /wiki/%E7%A7%81%E6%9C%89%E9%9B%B2\n",
      "外部連結: [Kubernetes] /wiki/Kubernetes\n",
      "外部連結: [叢集] /wiki/%E8%AE%A1%E7%AE%97%E6%9C%BA%E9%9B%86%E7%BE%A4\n",
      "外部連結: [YAML] /wiki/YAML\n",
      "外部連結: [橋接] /wiki/%E6%A1%A5%E6%8E%A5\n",
      "外部連結: [覆蓋網路] /wiki/%E8%A6%86%E7%9B%96%E7%BD%91%E7%BB%9C\n",
      "外部連結: [Swarm Mode] /wiki/Docker#Swarm_Mode\n"
     ]
    }
   ],
   "source": [
    "for ext_link in content:\n",
    "    a_tag = ext_link.find_all(\"a\", href=re.compile(\"^(/wiki/)((?!;)\\S)*$\"))\n",
    "    \n",
    "    if len(a_tag) > 0:\n",
    "        for link_string in a_tag:\n",
    "            a_link = link_string[\"href\"]       # 外部連結的網址\n",
    "            a_keyword = link_string.get_text()  # 外部連結的中文名稱\n",
    "            print(\"外部連結: [%s] %s\" % (a_keyword, a_link))"
   ]
  },
  {
   "cell_type": "markdown",
   "metadata": {},
   "source": [
    "## 作業：接下來定義一個爬蟲函數，這個函數的主要工作為：\n",
    "### (1) 爬取當前關鍵字的解釋，並存入檔案(因為文章內容太多會佔滿整個頁面，所以存程檔案，方便後續檢視)\n",
    "### (2) 萃取出當前關鍵字所引用的外部連結，當作新的查詢關鍵字\n",
    "### (3) 把第(2)擷取到的關鍵字當作新的關鍵字，回到第(1)步，爬取新的關鍵字解釋。"
   ]
  },
  {
   "cell_type": "code",
   "execution_count": 5,
   "metadata": {},
   "outputs": [],
   "source": [
    "def WikiArticle(key_word, key_word_link, recursive):\n",
    "    \n",
    "    if (recursive <= max_recursive_depth):\n",
    "        print(\"遞迴層[%d] - %s (%s)\" % (recursive, key_word, key_word_link))\n",
    "        \n",
    "        # 模擬封包的標頭\n",
    "        headers = {\n",
    "            \"authority\" : \"zh.wikipedia.org\",\n",
    "            \"method\" : \"GET\",\n",
    "            \"path\" : \"/wiki/\" + key_word_link,\n",
    "            \"scheme\" : \"https\",\n",
    "            \"accept\" : \"text/html,application/xhtml+xml,application/xml;q=0.9,image/webp,image/apng,*/*;q=0.8,application/signed-exchange;v=b3\",\n",
    "            \"accept-encoding\" : \"gzip, deflate, br\",\n",
    "            \"accept-language\" : \"zh-TW,zh;q=0.9,en-US;q=0.8,en;q=0.7,zh-CN;q=0.6\",\n",
    "            \"cookie\" : \"GeoIP=TW:TPE:Taipei:25.05:121.53:v4; TBLkisOn=0; mwPhp7Seed=8b8; WMF-Last-Access-Global=04-Jun-2019; WMF-Last-Access=04-Jun-2019\",\n",
    "            \"dnt\" : \"1\",\n",
    "            \"referer\" : \"https://zh.wikipedia.org/wiki/Wikipedia:%E9%A6%96%E9%A1%B5\",\n",
    "            \"upgrade-insecure-requests\" : \"1\",\n",
    "            \"user-agent\" : \"Mozilla/5.0 (Windows NT 10.0; Win64; x64) AppleWebKit/537.36 (KHTML, like Gecko) Chrome/74.0.3729.169 Safari/537.36\"\n",
    "        }    \n",
    "        url = \"https://zh.wikipedia.org\" + key_word_link  # 組合關鍵字查詢URL\n",
    "        resp = requests.get(url, headers = headers)\n",
    "        resp.encoding = \"utf-8\"\n",
    "\n",
    "        html = BeautifulSoup(resp.text, \"lxml\")\n",
    "        content = html.find(name = \"div\", attrs = {\"id\" : \"mw-content-text\"}).find_all(name = \"p\")\n",
    "        \n",
    "        #\n",
    "        # Part 1: 請參考範例1，爬取當前關鍵字的文章內容。\n",
    "        #         因為內容太多，我們把它寫入檔案，並以關鍵字作為檔案名稱，以便稍後查閱內容。\n",
    "        #         請先建立一個名為\"WikiArticle\"的資料夾，爬取到的文章內容會放在這個資料夾底下。\n",
    "        #\n",
    "        file_path = \"./WikiArticle/\" + key_word + \".txt\"\n",
    "        \n",
    "        with open(file_path, \"a+\") as f:\n",
    "            for paragraph in content:\n",
    "                f.write(paragraph.get_text())\n",
    "\n",
    "        \n",
    "        #\n",
    "        # Part 2: 請參考範例2，萃取出本篇文章中所延伸引用的外部連結，並儲存在external_link_dict\n",
    "        #\n",
    "        external_link_dict = dict({})\n",
    "        \n",
    "        for ext_link in content:\n",
    "            a_tag = ext_link.find_all(\"a\", href=re.compile(\"^(/wiki/)((?!;)\\S)*$\"))\n",
    "            \n",
    "            if len(a_tag) > 0:\n",
    "                for link_string in a_tag:\n",
    "                    a_link = link_string[\"href\"]       # 外部連結的網址\n",
    "                    a_keyword = link_string.get_text()  # 外部連結的中文名稱\n",
    "                    \n",
    "                    external_link_dict[a_keyword] = a_link\n",
    "\n",
    "                    \n",
    "        #\n",
    "        # Part 3: 將Part 2所收集的外部連結，當作新的關鍵字，繼續迭代深入爬蟲\n",
    "        #\n",
    "        if (len(external_link_dict) > 0):\n",
    "            \n",
    "            recursive = recursive + 1  # 遞迴深度加1\n",
    "            \n",
    "            for k, v in external_link_dict.items():\n",
    "                WikiArticle(k, v, recursive)  # 再次呼叫同樣的函數，執行同樣的流程"
   ]
  },
  {
   "cell_type": "markdown",
   "metadata": {},
   "source": [
    "### 執行前個步驟定義好的爬蟲主程式"
   ]
  },
  {
   "cell_type": "code",
   "execution_count": 6,
   "metadata": {},
   "outputs": [
    {
     "name": "stdout",
     "output_type": "stream",
     "text": [
      "遞迴層[0] - Docker (/wiki/Docker)\n",
      "遞迴層[1] - 開放原始碼 (/wiki/%E9%96%8B%E6%94%BE%E5%8E%9F%E5%A7%8B%E7%A2%BC)\n",
      "遞迴層[1] - 軟體貨櫃 (/wiki/%E4%BD%9C%E6%A5%AD%E7%B3%BB%E7%B5%B1%E5%B1%A4%E8%99%9B%E6%93%AC%E5%8C%96)\n",
      "遞迴層[1] - Linux (/wiki/Linux)\n",
      "遞迴層[1] - 抽象層 (/wiki/%E6%8A%BD%E8%B1%A1%E5%B1%A4)\n",
      "遞迴層[1] - 作業系統層虛擬化 (/wiki/%E4%BD%9C%E6%A5%AD%E7%B3%BB%E7%B5%B1%E5%B1%A4%E8%99%9B%E6%93%AC%E5%8C%96)\n",
      "遞迴層[1] - Linux核心 (/wiki/Linux%E6%A0%B8%E5%BF%83)\n",
      "遞迴層[1] - cgroups (/wiki/Cgroups)\n",
      "遞迴層[1] - 容器 (/wiki/%E4%BD%9C%E6%A5%AD%E7%B3%BB%E7%B5%B1%E5%B1%A4%E8%99%9B%E6%93%AC%E5%8C%96)\n",
      "遞迴層[1] - 虛擬機器 (/wiki/%E8%99%9B%E6%93%AC%E6%A9%9F%E5%99%A8)\n",
      "遞迴層[1] - 網路 (/wiki/%E8%AE%A1%E7%AE%97%E6%9C%BA%E7%BD%91%E7%BB%9C)\n",
      "遞迴層[1] - CPU (/wiki/CPU)\n",
      "遞迴層[1] - 記憶體 (/wiki/%E9%9B%BB%E8%85%A6%E8%A8%98%E6%86%B6%E9%AB%94)\n",
      "遞迴層[1] - libvirt (/wiki/Libvirt)\n",
      "遞迴層[1] - LXC (/wiki/LXC)\n",
      "遞迴層[1] - 公用雲 (/wiki/%E5%85%AC%E7%94%A8%E9%9B%B2)\n",
      "遞迴層[1] - 私有雲 (/wiki/%E7%A7%81%E6%9C%89%E9%9B%B2)\n",
      "遞迴層[1] - Kubernetes (/wiki/Kubernetes)\n",
      "遞迴層[1] - 叢集 (/wiki/%E8%AE%A1%E7%AE%97%E6%9C%BA%E9%9B%86%E7%BE%A4)\n",
      "遞迴層[1] - YAML (/wiki/YAML)\n",
      "遞迴層[1] - 橋接 (/wiki/%E6%A1%A5%E6%8E%A5)\n",
      "遞迴層[1] - 覆蓋網路 (/wiki/%E8%A6%86%E7%9B%96%E7%BD%91%E7%BB%9C)\n",
      "遞迴層[1] - Swarm Mode (/wiki/Docker#Swarm_Mode)\n"
     ]
    }
   ],
   "source": [
    "# 定義爬取的遞迴深度。深度不要訂太深，否則會爬很久。\n",
    "max_recursive_depth = 1\n",
    "\n",
    "WikiArticle(input_keyword, root_keyword_link, 0)"
   ]
  },
  {
   "cell_type": "code",
   "execution_count": null,
   "metadata": {},
   "outputs": [],
   "source": []
  }
 ],
 "metadata": {
  "kernelspec": {
   "display_name": "Python 3",
   "language": "python",
   "name": "python3"
  },
  "language_info": {
   "codemirror_mode": {
    "name": "ipython",
    "version": 3
   },
   "file_extension": ".py",
   "mimetype": "text/x-python",
   "name": "python",
   "nbconvert_exporter": "python",
   "pygments_lexer": "ipython3",
   "version": "3.7.6"
  }
 },
 "nbformat": 4,
 "nbformat_minor": 2
}
